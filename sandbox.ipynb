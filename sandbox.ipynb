{
 "cells": [
  {
   "cell_type": "code",
   "execution_count": 1,
   "metadata": {},
   "outputs": [],
   "source": [
    "from lxml import etree\n",
    "from dotenv import load_dotenv \n",
    "from openai import OpenAI"
   ]
  },
  {
   "cell_type": "code",
   "execution_count": 2,
   "metadata": {},
   "outputs": [],
   "source": [
    "# Read XSD from 1872.1-2024\n",
    "with open('app/resources/schema.xsd', 'r') as file:\n",
    "    schema = file.read()"
   ]
  },
  {
   "cell_type": "code",
   "execution_count": 3,
   "metadata": {},
   "outputs": [],
   "source": [
    "# Read XSD from 1872.1-2024\n",
    "with open('app/resources/reza_small.geojson', 'r') as file:\n",
    "    geojson = file.read()"
   ]
  },
  {
   "cell_type": "code",
   "execution_count": 6,
   "metadata": {},
   "outputs": [],
   "source": [
    "# global environment config\n",
    "load_dotenv('/Users/marcos/.gpt/token.env')\n",
    "MAX_TOKENS: int = 2000"
   ]
  },
  {
   "cell_type": "code",
   "execution_count": 78,
   "metadata": {},
   "outputs": [],
   "source": [
    "client = OpenAI()"
   ]
  },
  {
   "cell_type": "code",
   "execution_count": 79,
   "metadata": {},
   "outputs": [],
   "source": [
    "messages = [\n",
    "    {\n",
    "        \"role\": \"system\",\n",
    "        \"content\": \"You are a mission planner that generates XML mission plans based on robotic task representation. \\\n",
    "            When asked to generate a mission, create an XML file conformant to the known schema and use the GeoJSON file to provide references in the mission plan for things such as GPS location, tree type, etc. \\\n",
    "            It must be syntactically correct and validate using an XML linter.\",\n",
    "    },\n",
    "    # context\n",
    "    {\n",
    "        \"role\": \"user\",\n",
    "        \"content\": \"This is the schema for which you must generate mission plan XML documents:\" + schema\n",
    "    },\n",
    "    {\n",
    "        \"role\": \"assistant\",\n",
    "        \"content\": \"If you have any specific questions or modifications you'd like to discuss regarding this schema, feel free to ask!\"\n",
    "    },\n",
    "    {\n",
    "        \"role\": \"user\",\n",
    "        \"content\": \"This is the GeoJSON for which you must generate mission plan XML documents. This is our orchard:\" + geojson\n",
    "    },\n",
    "    {\n",
    "        \"role\": \"assistant\",\n",
    "        \"content\": \"Thank you for providing the GeoJSON file. I'll assist you in creating the XML file for your robotic mission plan when you provide your mission.\"\n",
    "    },\n",
    "    # TODO: add context of farm layout so that machine can generate XML with relevant state information\n",
    "]"
   ]
  },
  {
   "cell_type": "code",
   "execution_count": 80,
   "metadata": {},
   "outputs": [],
   "source": [
    "m = \"Make a plan to take a picture of every other pistachio tree.\"\n",
    "message = {\"role\": \"user\", \"content\": m}"
   ]
  },
  {
   "cell_type": "code",
   "execution_count": 81,
   "metadata": {},
   "outputs": [],
   "source": [
    "messages.append(message)"
   ]
  },
  {
   "cell_type": "code",
   "execution_count": 82,
   "metadata": {},
   "outputs": [],
   "source": [
    "def ask_gpt(messages):\n",
    "    return client.chat.completions.create(\n",
    "        model=\"gpt-4o\", messages=messages, max_tokens=MAX_TOKENS\n",
    "    )"
   ]
  },
  {
   "cell_type": "code",
   "execution_count": 83,
   "metadata": {},
   "outputs": [],
   "source": [
    "completion = ask_gpt(messages)"
   ]
  },
  {
   "cell_type": "code",
   "execution_count": 84,
   "metadata": {},
   "outputs": [],
   "source": [
    "with open('output.txt', 'w') as fp:\n",
    "    fp.write(completion.choices[0].message.content)"
   ]
  },
  {
   "cell_type": "code",
   "execution_count": 85,
   "metadata": {},
   "outputs": [],
   "source": [
    "gpt_response = completion.choices[0].message.content\n",
    "\n",
    "xml_response = gpt_response.split(\"```xml\\n\")[1]\n",
    "xml_response = xml_response.split(\"```\")[0]"
   ]
  },
  {
   "cell_type": "code",
   "execution_count": 4,
   "metadata": {},
   "outputs": [
    {
     "ename": "NameError",
     "evalue": "name 'xml_response' is not defined",
     "output_type": "error",
     "traceback": [
      "\u001b[0;31m---------------------------------------------------------------------------\u001b[0m",
      "\u001b[0;31mNameError\u001b[0m                                 Traceback (most recent call last)",
      "Cell \u001b[0;32mIn[4], line 2\u001b[0m\n\u001b[1;32m      1\u001b[0m \u001b[38;5;28;01mwith\u001b[39;00m \u001b[38;5;28mopen\u001b[39m(\u001b[38;5;124m'\u001b[39m\u001b[38;5;124mapp/gpt_outputs/gpt_example.xml\u001b[39m\u001b[38;5;124m'\u001b[39m, \u001b[38;5;124m'\u001b[39m\u001b[38;5;124mw\u001b[39m\u001b[38;5;124m'\u001b[39m) \u001b[38;5;28;01mas\u001b[39;00m fp:\n\u001b[0;32m----> 2\u001b[0m     fp\u001b[38;5;241m.\u001b[39mwrite(\u001b[43mxml_response\u001b[49m)\n",
      "\u001b[0;31mNameError\u001b[0m: name 'xml_response' is not defined"
     ]
    }
   ],
   "source": [
    "with open('app/gpt_outputs/gpt_example.xml', 'w') as fp:\n",
    "    fp.write(xml_response)"
   ]
  },
  {
   "cell_type": "code",
   "execution_count": 3,
   "metadata": {},
   "outputs": [],
   "source": [
    "def validate_xml(xsd_file, xml_file) -> str:\n",
    "    try:\n",
    "        # Parse the XSD file\n",
    "        with open(xsd_file, 'rb') as schema_file:\n",
    "            schema_root = etree.XML(schema_file.read())\n",
    "        schema = etree.XMLSchema(schema_root)\n",
    "\n",
    "        # Parse the XML file\n",
    "        with open(xml_file, 'rb') as xml_file:\n",
    "            xml_doc = etree.parse(xml_file)\n",
    "\n",
    "        # Validate the XML file against the XSD schema\n",
    "        schema.assertValid(xml_doc)\n",
    "        return \"XML is valid.\"\n",
    "\n",
    "    except etree.XMLSchemaError as e:\n",
    "        return \"XML is invalid: \" + str(e)\n",
    "    except Exception as e:\n",
    "        return \"An error occurred: \" + str(e)"
   ]
  },
  {
   "cell_type": "code",
   "execution_count": 4,
   "metadata": {},
   "outputs": [
    {
     "name": "stdout",
     "output_type": "stream",
     "text": [
      "XML is valid.\n"
     ]
    }
   ],
   "source": [
    "# messages.append(gpt_response)\n",
    "# Example usage\n",
    "xsd_file = 'app/resources/schema.xsd'\n",
    "xml_file = 'app/gpt_outputs/gpt_example.xml'\n",
    "ret = validate_xml(xsd_file, xml_file)\n",
    "print(ret)\n",
    "# messages.append(ret)"
   ]
  },
  {
   "cell_type": "markdown",
   "metadata": {},
   "source": [
    "## GeoJSON"
   ]
  },
  {
   "cell_type": "code",
   "execution_count": null,
   "metadata": {},
   "outputs": [],
   "source": [
    "text: str = (\n",
    "    \"\"\"\n",
    "{ \n",
    "\"type\": \"FeatureCollection\",\n",
    "\"features\": [\n",
    "    \"\"\"\n",
    ")\n",
    "\n",
    "gps: str = (\n",
    "    \"\"\"\n",
    "    {{\n",
    "      \"type\": \"Feature\",\n",
    "      \"geometry\": {{\n",
    "        \"type\": \"Point\",\n",
    "        \"coordinates\": [{}, {}]\n",
    "      }},\n",
    "      \"properties\": {{\n",
    "        \"marker-symbol\": \"{}-tree\"\n",
    "      }}\n",
    "    }},\"\"\"\n",
    ")\n",
    "\n",
    "tree_type: str = \"pistachio\"\n",
    "i = 0\n",
    "dir = True\n",
    "tree_num = 0\n",
    "\n",
    "with open(\"resources/reza_waypoints.txt\", \"r\") as fp:\n",
    "    for line in fp.readlines():\n",
    "        gps_coord = line.split(\" \")\n",
    "        # only want trees\n",
    "        if gps_coord[2] == 0:\n",
    "            continue\n",
    "        if i % 18 == 0:\n",
    "            dir = ~dir\n",
    "            tree_num -= 18\n",
    "        out = gps.format(gps_coord[0], gps_coord[1], tree_type)\n",
    "        text += out\n",
    "        i += 1\n",
    "\n",
    "# remove last comma\n",
    "text = text[:-1]\n",
    "text += \"\"\"  \n",
    "  ]\n",
    "}\n",
    "\"\"\"\n",
    "\n",
    "with open(\"resources/reza.geojson\", \"w\") as fp:\n",
    "    fp.write(text)"
   ]
  },
  {
   "cell_type": "code",
   "execution_count": null,
   "metadata": {},
   "outputs": [],
   "source": []
  }
 ],
 "metadata": {
  "kernelspec": {
   "display_name": "Python 3",
   "language": "python",
   "name": "python3"
  },
  "language_info": {
   "codemirror_mode": {
    "name": "ipython",
    "version": 3
   },
   "file_extension": ".py",
   "mimetype": "text/x-python",
   "name": "python",
   "nbconvert_exporter": "python",
   "pygments_lexer": "ipython3",
   "version": "3.11.5"
  }
 },
 "nbformat": 4,
 "nbformat_minor": 2
}
